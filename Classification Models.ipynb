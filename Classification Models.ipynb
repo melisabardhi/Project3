{
 "cells": [
  {
   "cell_type": "code",
   "execution_count": 1,
   "metadata": {},
   "outputs": [
    {
     "name": "stderr",
     "output_type": "stream",
     "text": [
      "/opt/anaconda3/envs/learn-env/lib/python3.6/site-packages/sklearn/externals/six.py:31: DeprecationWarning: The module is deprecated in version 0.21 and will be removed in version 0.23 since we've dropped support for Python 2.7. Please rely on the official version of six (https://pypi.org/project/six/).\n",
      "  \"(https://pypi.org/project/six/).\", DeprecationWarning)\n"
     ]
    }
   ],
   "source": [
    "# Import libraries and packages\n",
    "\n",
    "import pandas as pd\n",
    "pd.set_option('display.max_columns',100)\n",
    "pd.set_option('display.max_rows',200)\n",
    "pd.set_option('display.max_columns', 70)\n",
    "\n",
    "import matplotlib.pyplot as plt\n",
    "import matplotlib.dates as mdates\n",
    "import matplotlib.ticker as ticker\n",
    "\n",
    "import seaborn as sns\n",
    "import seaborn as sns; sns.set_context('talk')\n",
    "sns.set(rc = {'figure.figsize' : (11, 4)})\n",
    "\n",
    "import numpy as np\n",
    "\n",
    "from sklearn.dummy import DummyClassifier\n",
    "from sklearn.linear_model import LogisticRegression\n",
    "from sklearn.preprocessing import StandardScaler\n",
    "from sklearn.model_selection import GridSearchCV\n",
    "from sklearn.model_selection import train_test_split\n",
    "from sklearn.preprocessing import PolynomialFeatures\n",
    "from sklearn import metrics\n",
    "from sklearn.ensemble import RandomForestClassifier\n",
    "from sklearn.ensemble import VotingClassifier\n",
    "from sklearn.ensemble import BaggingClassifier, RandomForestRegressor, ExtraTreesRegressor\n",
    "from sklearn.svm import SVC\n",
    "from sklearn.naive_bayes import GaussianNB\n",
    "from sklearn.preprocessing import StandardScaler\n",
    "from sklearn.model_selection import train_test_split, GridSearchCV\n",
    "from sklearn.metrics import classification_report, confusion_matrix, roc_curve, roc_auc_score, precision_score, accuracy_score, f1_score, recall_score\n",
    "\n",
    "from scipy.stats import randint\n",
    "\n",
    "from pickle import dump\n",
    "\n",
    "from imblearn.over_sampling import SMOTE\n",
    "from imblearn.pipeline import Pipeline as imbPipeline\n",
    "\n",
    "import random"
   ]
  },
  {
   "cell_type": "markdown",
   "metadata": {},
   "source": [
    "# Model Cleaning"
   ]
  },
  {
   "cell_type": "markdown",
   "metadata": {},
   "source": [
    "Prior to building our classification models we need to convert all of our desired data into numbers the model can interpret. We do this by converting our categorical data into dummies represented with binary numbers."
   ]
  },
  {
   "cell_type": "code",
   "execution_count": 2,
   "metadata": {},
   "outputs": [],
   "source": [
    "# Convert features into binary values"
   ]
  },
  {
   "cell_type": "code",
   "execution_count": 3,
   "metadata": {},
   "outputs": [],
   "source": [
    "df = pd.read_csv('Terry_Stops_Clean.csv')"
   ]
  },
  {
   "cell_type": "code",
   "execution_count": 4,
   "metadata": {},
   "outputs": [
    {
     "name": "stderr",
     "output_type": "stream",
     "text": [
      "/opt/anaconda3/envs/learn-env/lib/python3.6/site-packages/pandas/core/ops/__init__.py:1115: FutureWarning: elementwise comparison failed; returning scalar instead, but in the future will perform elementwise comparison\n",
      "  result = method(y)\n"
     ]
    }
   ],
   "source": [
    "# Change column values to binary only\n",
    "\n",
    "# Call type \n",
    "df = df.replace({'call_type': {'911':'call',\n",
    "                               'SCHEDULED EVENT (RECURRING)':'call', \n",
    "                               'ONVIEW':'onview',\n",
    "                               'TELEPHONE OTHER, NOT 911':'call',\n",
    "                               'ALARM CALL (NOT POLICE ALARM)':'call',\n",
    "                               'TEXT MESSAGE':'call',\n",
    "                               'PROACTIVE (OFFICER INITIATED)':'onview'}})\n",
    "\n",
    "df.call_type = np.where(df.call_type == 'call', 0, df.call_type)\n",
    "df.call_type = np.where(df.call_type == 'onview', 1, df.call_type)\n",
    "\n",
    "# Stop resolution is the target, where arrest is 1\n",
    "df = df.replace({'stop_resolution': {'Offense Report':0,\n",
    "                                     'Arrest':1,\n",
    "                                     'Field Contact':0,\n",
    "                                     'Referred for Prosecution':0,\n",
    "                                     'Citation / Infraction':0}})\n",
    "\n",
    "# Frisk\n",
    "df.frisk_flag = np.where(df.frisk_flag == 'N', 0, df.frisk_flag)\n",
    "df.frisk_flag = np.where(df.frisk_flag == 'Y', 1, df.frisk_flag)\n",
    "\n",
    "# Subject gender\n",
    "df.subj_perceived_gender = np.where(df.subj_perceived_gender == 'Male', 0, df.subj_perceived_gender)\n",
    "df.subj_perceived_gender = np.where(df.subj_perceived_gender == 'Female', 1, df.subj_perceived_gender)\n",
    "\n",
    "# Officer gender\n",
    "df.off_gender = np.where(df.off_gender == 'M', 0, df.off_gender)\n",
    "df.off_gender = np.where(df.off_gender == 'F', 1, df.off_gender)\n"
   ]
  },
  {
   "cell_type": "code",
   "execution_count": 5,
   "metadata": {},
   "outputs": [
    {
     "name": "stdout",
     "output_type": "stream",
     "text": [
      "[nan 0 1]\n",
      "[1 0]\n",
      "[ 0. nan  1.]\n",
      "[0 nan 1]\n",
      "[0 1]\n"
     ]
    }
   ],
   "source": [
    "# Validate binary\n",
    "print(df.call_type.unique())\n",
    "print(df.stop_resolution.unique())\n",
    "print(df.frisk_flag.unique())\n",
    "print(df.subj_perceived_gender.unique())\n",
    "print(df.off_gender.unique())"
   ]
  },
  {
   "cell_type": "code",
   "execution_count": 6,
   "metadata": {
    "code_folding": []
   },
   "outputs": [],
   "source": [
    "# Convert columns to category datatype\n",
    "for col in ['beat', 'subj_age_group', 'weapon', 'subj_perceived_gender', \n",
    "            'off_race', 'subj_perceived_race', 'call_type']:\n",
    "    df[col] = df[col].astype('category')"
   ]
  },
  {
   "cell_type": "code",
   "execution_count": 7,
   "metadata": {
    "scrolled": true
   },
   "outputs": [],
   "source": [
    "# Get dummies\n",
    "dummies_df = pd.get_dummies(df, columns=[\"subj_age_group\"], prefix=[\"subj_age\"])\n",
    "dummies_df = pd.get_dummies(df, columns=['weapon'], prefix=['weapon'])\n",
    "dummies_df = pd.get_dummies(df, columns=[\"subj_perceived_gender\"], prefix=[\"subj_gender\"])\n",
    "dummies_df = pd.get_dummies(df, columns=[\"off_race\"], prefix=[\"off_race\"])\n",
    "dummies_df = pd.get_dummies(df, columns=[\"subj_perceived_race\"], prefix=[\"subj_race\"])\n",
    "dummies_df = pd.get_dummies(df, columns=[\"call_type\"], prefix=[\"call_type\"])\n",
    "dummies_df = pd.get_dummies(df, columns=[\"beat\"], prefix=[\"beat\"])\n",
    "dummies_df = pd.get_dummies(df, columns=[\"subj_age_group\"], prefix=[\"subj_age\"])\n",
    "\n",
    "dummies_df = dummies_df[dummies_df['call_type'] != 'None']\n",
    "\n",
    "dummies_df = pd.get_dummies(df)"
   ]
  },
  {
   "cell_type": "code",
   "execution_count": 8,
   "metadata": {},
   "outputs": [],
   "source": [
    "dummies_df.to_csv('Terry_Stops_Model.csv', index=False)"
   ]
  },
  {
   "cell_type": "code",
   "execution_count": 66,
   "metadata": {},
   "outputs": [
    {
     "data": {
      "text/plain": [
       "\"cat_df = pd.read_csv('Terry_Stops_Model.csv')\""
      ]
     },
     "execution_count": 66,
     "metadata": {},
     "output_type": "execute_result"
    }
   ],
   "source": [
    "\"\"\"cat_df = pd.read_csv('Terry_Stops_Model.csv')\"\"\""
   ]
  },
  {
   "cell_type": "markdown",
   "metadata": {},
   "source": [
    "# Metrics Explained"
   ]
  },
  {
   "cell_type": "markdown",
   "metadata": {},
   "source": [
    "Our target variable is stop_resolution, meaning we are looking to predict whether a stop results in an arrest (1) or not (0). In the dataset, an arrest occurs 24% of the time. \n",
    "\n",
    "The following evaluation metrics will be used across the models below to determine which one has the greatest predictive power. This is how they can be interpreted:\n",
    "\n",
    "*True Positive*: Arresting someone who is guilty.\n",
    "\n",
    "*False Positive*: Arresting someone who is not guilty.\n",
    "\n",
    "*True Negative*: Not arresting someone who is not guilty.\n",
    "\n",
    "*False Negative*: Not arresting someone who is guilty.\n",
    "\n",
    "*Accuracy (TP+TN/TP+FP+FN+TN)*: Accuracy is the ratio of correctly predicted observations to the total observations. Accuracy is a great measure only when you have symmetric datasets where values of false positive and false negatives are almost the same. This is the ratio of correctly predicted guilty arrests and not guilty non-arrests, out of the total population of guilty and innocent subjects. \n",
    "\n",
    "*Precision (TP/TP+FP)*: Precision is the ratio of correctly predicted positive observations to the total predicted positive observations. This is the ratio of correctly predicted guilty arrests out of everyone arrested (some of which will not be guilty). \n",
    "\n",
    "*Recall (TP/TP+FN)*: Recall is the ratio of correctly predicted positive observations to the all observations in actual class. Or, everyone correctly arrested because they are guilty, out of everyone guilty (some of which were missed and not arrested).\n",
    "\n",
    "*F1 (2x(Recall x Precision) / (Recall + Precision))*: F1 Score is the weighted average of Precision and Recall, thereby taking both false positives and false negatives into account. F1 ranges from 0 to 1, with a better score being higher. "
   ]
  },
  {
   "cell_type": "markdown",
   "metadata": {},
   "source": [
    "Which metric matters?\n",
    "\n",
    "The answer depends on the specific issue at hand and the subjective point of view of the person answering. If arresting someone who is not guilty was the worst (or if you want the smallest number of False Positives possible), then one would choose the model which has the best precision score. The best precision score would be the highest one because it would have the smallest # of FP in the denominator. Similarly, the F1 score would also be important."
   ]
  },
  {
   "cell_type": "markdown",
   "metadata": {},
   "source": [
    "# Baseline Model"
   ]
  },
  {
   "cell_type": "markdown",
   "metadata": {},
   "source": [
    "A baseline of data on which classificiation algorithms will be used is established below. The desired features and target are specified, the training and testing data is split, data is randomized and a search for the hyperparameters that would enable the algorithms to drive the most accurate predictions is performed."
   ]
  },
  {
   "cell_type": "code",
   "execution_count": 10,
   "metadata": {
    "scrolled": false
   },
   "outputs": [
    {
     "data": {
      "image/png": "[encoded data removed]",
      "text/plain": [
       "<Figure size 504x504 with 2 Axes>"
      ]
     },
     "metadata": {
      "needs_background": "light"
     },
     "output_type": "display_data"
    }
   ],
   "source": [
    "# View correlation between variables \n",
    "fig, ax = plt.subplots(figsize=(7,7))\n",
    "corr = df.corr()\n",
    "sns.heatmap(corr, cmap=\"YlGnBu\")\n",
    "plt.show()"
   ]
  },
  {
   "cell_type": "code",
   "execution_count": 11,
   "metadata": {},
   "outputs": [],
   "source": [
    "# Pick features\n",
    "features_df = cat_df.filter(['call_type_1',\n",
    "                             'call_type_0',\n",
    "                             'weapon_Blade',\n",
    "                             'beat_M',\n",
    "                             'beat_U',\n",
    "                             'beat_K',\n",
    "                             'beat_E',\n",
    "                             'beat_F',\n",
    "                             'off_race_White',\n",
    "                             'subj_perceived_race_White',\n",
    "                             'subj_perceived_race_Black or African American',\n",
    "                             'off_age',\n",
    "                             'date'], axis=1)"
   ]
  },
  {
   "cell_type": "code",
   "execution_count": 12,
   "metadata": {},
   "outputs": [
    {
     "data": {
      "text/plain": [
       "0    0.75899\n",
       "1    0.24101\n",
       "Name: stop_resolution, dtype: float64"
      ]
     },
     "execution_count": 12,
     "metadata": {},
     "output_type": "execute_result"
    }
   ],
   "source": [
    "# View % distribution in target\n",
    "cat_df.stop_resolution.value_counts(normalize=True)"
   ]
  },
  {
   "cell_type": "markdown",
   "metadata": {},
   "source": [
    "The above means 76% of the time a stop resolution does not lead to an arrest and 24% of the time it does."
   ]
  },
  {
   "cell_type": "code",
   "execution_count": 13,
   "metadata": {},
   "outputs": [
    {
     "data": {
      "text/plain": [
       "array([1, 0])"
      ]
     },
     "execution_count": 13,
     "metadata": {},
     "output_type": "execute_result"
    }
   ],
   "source": [
    "# Check target is binary\n",
    "dummies_df.stop_resolution.unique()"
   ]
  },
  {
   "cell_type": "code",
   "execution_count": 14,
   "metadata": {},
   "outputs": [],
   "source": [
    "# Split training & testing data\n",
    "from sklearn.model_selection import train_test_split\n",
    "\n",
    "y = dummies_df['stop_resolution']\n",
    "X = dummies_df.drop(['stop_resolution'], axis=1)\n",
    "X = features_df\n",
    "\n",
    "X_train, X_test, y_train, y_test = train_test_split(X, y, test_size=0.25, random_state=10)"
   ]
  },
  {
   "cell_type": "code",
   "execution_count": 15,
   "metadata": {},
   "outputs": [
    {
     "name": "stdout",
     "output_type": "stream",
     "text": [
      "(42853,)\n",
      "(42853, 12)\n"
     ]
    }
   ],
   "source": [
    "# View shape\n",
    "print(y.shape)\n",
    "print(X.shape)"
   ]
  },
  {
   "cell_type": "markdown",
   "metadata": {},
   "source": [
    "##### Dummy Classifier\n",
    "DummyClassifier is used below to make predictions using simple rules. This classifier is useful as a baseline to compare with other (real) classifiers."
   ]
  },
  {
   "cell_type": "code",
   "execution_count": 16,
   "metadata": {
    "code_folding": []
   },
   "outputs": [],
   "source": [
    "# Load dummy classifier\n",
    "dc = DummyClassifier()"
   ]
  },
  {
   "cell_type": "code",
   "execution_count": 17,
   "metadata": {},
   "outputs": [
    {
     "data": {
      "text/plain": [
       "DummyClassifier(constant=None, random_state=None, strategy='stratified')"
      ]
     },
     "execution_count": 17,
     "metadata": {},
     "output_type": "execute_result"
    }
   ],
   "source": [
    "# Fit on training data \n",
    "dc.fit(X_train, y_train)"
   ]
  },
  {
   "cell_type": "code",
   "execution_count": 18,
   "metadata": {},
   "outputs": [],
   "source": [
    "# Make predictions \n",
    "dummy_pred = dc.predict(X_test)"
   ]
  },
  {
   "cell_type": "markdown",
   "metadata": {},
   "source": [
    "##### Dummy Scores"
   ]
  },
  {
   "cell_type": "code",
   "execution_count": 19,
   "metadata": {
    "code_folding": [],
    "scrolled": false
   },
   "outputs": [
    {
     "name": "stdout",
     "output_type": "stream",
     "text": [
      "0.23441199684293607\n",
      "0.23103850641773627\n",
      "0.6309501586708979\n",
      "0.227760736196319\n"
     ]
    }
   ],
   "source": [
    "# Scores\n",
    "print(precision_score(y_test, dummy_pred))\n",
    "print(f1_score(y_test, dummy_pred))\n",
    "print(accuracy_score(y_test, dummy_pred))\n",
    "print(recall_score(y_test, dummy_pred))"
   ]
  },
  {
   "cell_type": "markdown",
   "metadata": {},
   "source": [
    "##### SMOTE and Ethics"
   ]
  },
  {
   "cell_type": "markdown",
   "metadata": {},
   "source": [
    "SMOTE is used below to address class imbalance problems in our data. As we see from the target (stop_resolution) count, arrests are the minority. Synthetic Minority Oversampling generates new sample data by creating 'synthetic' examples that are combinations of the closest minority class cases.\n",
    "\n",
    "It is worth noting here that SMOTE can be controvercial when working with a dataset on real people. There are ethical concerns when creating synthetic data representing people because the synthetics can amplify existing bias in the historical data. "
   ]
  },
  {
   "cell_type": "code",
   "execution_count": 20,
   "metadata": {},
   "outputs": [],
   "source": [
    "# SMOTE\n",
    "smote = SMOTE(sampling_strategy='minority', random_state=23)\n",
    "X_train_SMOTE, y_train_SMOTE = smote.fit_sample(X_train, y_train)"
   ]
  },
  {
   "cell_type": "code",
   "execution_count": 21,
   "metadata": {
    "scrolled": true
   },
   "outputs": [
    {
     "name": "stderr",
     "output_type": "stream",
     "text": [
      "/opt/anaconda3/envs/learn-env/lib/python3.6/site-packages/sklearn/linear_model/logistic.py:432: FutureWarning: Default solver will be changed to 'lbfgs' in 0.22. Specify a solver to silence this warning.\n",
      "  FutureWarning)\n"
     ]
    },
    {
     "data": {
      "text/plain": [
       "LogisticRegression(C=1.0, class_weight=None, dual=False, fit_intercept=True,\n",
       "                   intercept_scaling=1, l1_ratio=None, max_iter=100,\n",
       "                   multi_class='ovr', n_jobs=None, penalty='l2',\n",
       "                   random_state=None, solver='warn', tol=0.0001, verbose=0,\n",
       "                   warm_start=False)"
      ]
     },
     "execution_count": 21,
     "metadata": {},
     "output_type": "execute_result"
    }
   ],
   "source": [
    "# Fit logistic regression on data balanced with SMOTE\n",
    "logreg = LogisticRegression(multi_class='ovr')\n",
    "logreg.fit(X_train_SMOTE,y_train_SMOTE)"
   ]
  },
  {
   "cell_type": "code",
   "execution_count": 22,
   "metadata": {},
   "outputs": [],
   "source": [
    "# Predict on testing data\n",
    "y_pred_base = logreg.predict(X_test)"
   ]
  },
  {
   "cell_type": "markdown",
   "metadata": {},
   "source": [
    "##### Baseline Scores"
   ]
  },
  {
   "cell_type": "code",
   "execution_count": 59,
   "metadata": {
    "scrolled": true
   },
   "outputs": [
    {
     "name": "stdout",
     "output_type": "stream",
     "text": [
      "Prec: 0.33143191458241916\n",
      "F1: 0.4798305982001058\n",
      "Acc: 0.5414411050961359\n",
      "Rec: 0.8688650306748467\n"
     ]
    }
   ],
   "source": [
    "# Compare predictions to actuals to generate scores\n",
    "print(\"Prec:\",metrics.precision_score(y_test, y_pred_base))\n",
    "print(\"F1:\",metrics.f1_score(y_test, y_pred_base))\n",
    "\n",
    "print(\"Acc:\",metrics.accuracy_score(y_test, y_pred_base))\n",
    "print(\"Rec:\",metrics.recall_score(y_test, y_pred_base))"
   ]
  },
  {
   "cell_type": "code",
   "execution_count": 24,
   "metadata": {},
   "outputs": [
    {
     "name": "stdout",
     "output_type": "stream",
     "text": [
      "[[3535 4571]\n",
      " [ 342 2266]]\n",
      "              precision    recall  f1-score   support\n",
      "\n",
      "           0       0.91      0.44      0.59      8106\n",
      "           1       0.33      0.87      0.48      2608\n",
      "\n",
      "    accuracy                           0.54     10714\n",
      "   macro avg       0.62      0.65      0.53     10714\n",
      "weighted avg       0.77      0.54      0.56     10714\n",
      "\n"
     ]
    }
   ],
   "source": [
    "# Confusion matrix\n",
    "print(confusion_matrix(y_test, y_pred_base))\n",
    "# Classification report\n",
    "print(classification_report(y_test, y_pred_base))"
   ]
  },
  {
   "cell_type": "code",
   "execution_count": 25,
   "metadata": {},
   "outputs": [
    {
     "data": {
      "image/png": "[encoded data removed]",
      "text/plain": [
       "<Figure size 432x288 with 1 Axes>"
      ]
     },
     "metadata": {
      "needs_background": "light"
     },
     "output_type": "display_data"
    }
   ],
   "source": [
    "# Generate ROC curve values fpr, tpr, thresholds\n",
    "fpr, tpr, thresholds = roc_curve(y_test, y_pred_base)\n",
    "\n",
    "# Plot ROC curve\n",
    "_=plt.plot([0, 1], [0, 1], 'k--')\n",
    "_=plt.plot(fpr, tpr)\n",
    "_=plt.xlabel('False Positive Rate')\n",
    "_=plt.ylabel('True Positive Rate')\n",
    "_=plt.title('ROC Curve')\n",
    "plt.show()"
   ]
  },
  {
   "cell_type": "code",
   "execution_count": 26,
   "metadata": {},
   "outputs": [
    {
     "data": {
      "text/plain": [
       "0.7565801754713459"
      ]
     },
     "execution_count": 26,
     "metadata": {},
     "output_type": "execute_result"
    }
   ],
   "source": [
    "# Calculate null accuracy\n",
    "max(y_test.mean(), 1 - y_test.mean())"
   ]
  },
  {
   "cell_type": "markdown",
   "metadata": {},
   "source": [
    "The above indicates that a dumb model that always predicts 0 would be right 76% of the time. This provides a minimum to achieve with the model."
   ]
  },
  {
   "cell_type": "markdown",
   "metadata": {},
   "source": [
    "# Random Forest Classifier"
   ]
  },
  {
   "cell_type": "markdown",
   "metadata": {},
   "source": [
    "The Random Forest Classifier is an ensemble of decision trees that are trained to use bagging, or a combination of learning models, to obtain a more accurate and stable prediction. RFC is effective because of its randomness; instead of searching for the most important feature while building a tree, it searches for the best feature among a random subset of features only. When a a random subset of the features is taken into account when spliting a node, the model is able to more effectively find the features that are the most important in yielding an accurate outcome. RFC allows you to measure a feature's importance by looking at how much the tree nodes that use that feature reduce impurity across all trees in the forest."
   ]
  },
  {
   "cell_type": "markdown",
   "metadata": {},
   "source": [
    "##### Grid Search CV"
   ]
  },
  {
   "cell_type": "markdown",
   "metadata": {},
   "source": [
    "Combinatorial grid search is used below to find the best combination of parameters to improve model performance. Grid search performs an exhaustive search of every single combination from which to select the best parameters. Since Gridsearch is a computationally expensive task, it is set up with n_jobs = -1 to run things in parallel across all cores in the computer."
   ]
  },
  {
   "cell_type": "code",
   "execution_count": 27,
   "metadata": {},
   "outputs": [],
   "source": [
    "# Random forest parameter grid\n",
    "rfc_param_grid = { \n",
    "    'class_weight': ['balanced','balanced_subsample'],\n",
    "    'n_estimators': [350, 400, 450],\n",
    "    'min_impurity_decrease': [.0001,.00001],\n",
    "    'max_depth': [30, 40, 50]\n",
    "}"
   ]
  },
  {
   "cell_type": "markdown",
   "metadata": {},
   "source": [
    "##### RFC Imbalanced Weight"
   ]
  },
  {
   "cell_type": "code",
   "execution_count": 28,
   "metadata": {},
   "outputs": [],
   "source": [
    "# Establish rfc with gridsearch where class weight is balanced\n",
    "rfc = RandomForestClassifier()\n",
    "grid_rfc = GridSearchCV(rfc, rfc_param_grid, cv = 3, n_jobs = -1, scoring = 'precision', verbose = 1)"
   ]
  },
  {
   "cell_type": "code",
   "execution_count": 29,
   "metadata": {},
   "outputs": [
    {
     "name": "stdout",
     "output_type": "stream",
     "text": [
      "Fitting 3 folds for each of 36 candidates, totalling 108 fits\n"
     ]
    },
    {
     "name": "stderr",
     "output_type": "stream",
     "text": [
      "[Parallel(n_jobs=-1)]: Using backend LokyBackend with 8 concurrent workers.\n",
      "[Parallel(n_jobs=-1)]: Done  34 tasks      | elapsed:   26.6s\n",
      "[Parallel(n_jobs=-1)]: Done 108 out of 108 | elapsed:  1.6min finished\n"
     ]
    },
    {
     "data": {
      "text/plain": [
       "GridSearchCV(cv=3, error_score='raise-deprecating',\n",
       "             estimator=RandomForestClassifier(bootstrap=True, class_weight=None,\n",
       "                                              criterion='gini', max_depth=None,\n",
       "                                              max_features='auto',\n",
       "                                              max_leaf_nodes=None,\n",
       "                                              min_impurity_decrease=0.0,\n",
       "                                              min_impurity_split=None,\n",
       "                                              min_samples_leaf=1,\n",
       "                                              min_samples_split=2,\n",
       "                                              min_weight_fraction_leaf=0.0,\n",
       "                                              n_estimators='warn', n_jobs=None,\n",
       "                                              oob_score=False,\n",
       "                                              random_state=None, verbose=0,\n",
       "                                              warm_start=False),\n",
       "             iid='warn', n_jobs=-1,\n",
       "             param_grid={'class_weight': ['balanced', 'balanced_subsample'],\n",
       "                         'max_depth': [30, 40, 50],\n",
       "                         'min_impurity_decrease': [0.0001, 1e-05],\n",
       "                         'n_estimators': [350, 400, 450]},\n",
       "             pre_dispatch='2*n_jobs', refit=True, return_train_score=False,\n",
       "             scoring='precision', verbose=1)"
      ]
     },
     "execution_count": 29,
     "metadata": {},
     "output_type": "execute_result"
    }
   ],
   "source": [
    "# Fit Random Forest Classifier on data\n",
    "grid_rfc.fit(X_train,y_train)"
   ]
  },
  {
   "cell_type": "code",
   "execution_count": 30,
   "metadata": {},
   "outputs": [
    {
     "name": "stdout",
     "output_type": "stream",
     "text": [
      "{'class_weight': 'balanced', 'max_depth': 50, 'min_impurity_decrease': 1e-05, 'n_estimators': 400}\n",
      "RandomForestClassifier(bootstrap=True, class_weight='balanced',\n",
      "                       criterion='gini', max_depth=50, max_features='auto',\n",
      "                       max_leaf_nodes=None, min_impurity_decrease=1e-05,\n",
      "                       min_impurity_split=None, min_samples_leaf=1,\n",
      "                       min_samples_split=2, min_weight_fraction_leaf=0.0,\n",
      "                       n_estimators=400, n_jobs=None, oob_score=False,\n",
      "                       random_state=None, verbose=0, warm_start=False)\n"
     ]
    }
   ],
   "source": [
    "# Print best parameters and estimator\n",
    "print(grid_rfc.best_params_)\n",
    "print(grid_rfc.best_estimator_)"
   ]
  },
  {
   "cell_type": "code",
   "execution_count": 31,
   "metadata": {
    "code_folding": []
   },
   "outputs": [],
   "source": [
    "# Predict on the test set\n",
    "y_pred_grid=grid_rfc.best_estimator_.predict(X_test)"
   ]
  },
  {
   "cell_type": "markdown",
   "metadata": {},
   "source": [
    "##### RFC Imbalanced Weight Scores"
   ]
  },
  {
   "cell_type": "code",
   "execution_count": 63,
   "metadata": {},
   "outputs": [
    {
     "name": "stdout",
     "output_type": "stream",
     "text": [
      "Prec: 0.3422657252888318\n",
      "F1: 0.48257918552036194\n",
      "Acc: 0.5730819488519694\n",
      "Rec: 0.8178680981595092\n"
     ]
    }
   ],
   "source": [
    "# Scores\n",
    "print(\"Prec:\",metrics.precision_score(y_test, y_pred_grid))\n",
    "print(\"F1:\",metrics.f1_score(y_test, y_pred_grid))\n",
    "\n",
    "print(\"Acc:\",metrics.accuracy_score(y_test, y_pred_grid))\n",
    "print(\"Rec:\",metrics.recall_score(y_test, y_pred_grid))"
   ]
  },
  {
   "cell_type": "code",
   "execution_count": 33,
   "metadata": {},
   "outputs": [
    {
     "name": "stdout",
     "output_type": "stream",
     "text": [
      "[[4020 4086]\n",
      " [ 476 2132]]\n",
      "              precision    recall  f1-score   support\n",
      "\n",
      "           0       0.89      0.50      0.64      8106\n",
      "           1       0.34      0.82      0.48      2608\n",
      "\n",
      "    accuracy                           0.57     10714\n",
      "   macro avg       0.62      0.66      0.56     10714\n",
      "weighted avg       0.76      0.57      0.60     10714\n",
      "\n"
     ]
    }
   ],
   "source": [
    "print(confusion_matrix(y_test, y_pred_grid))\n",
    "print(classification_report(y_test, y_pred_grid))"
   ]
  },
  {
   "cell_type": "code",
   "execution_count": 34,
   "metadata": {},
   "outputs": [
    {
     "data": {
      "image/png": "[encoded data removed]",
      "text/plain": [
       "<Figure size 432x288 with 1 Axes>"
      ]
     },
     "metadata": {
      "needs_background": "light"
     },
     "output_type": "display_data"
    }
   ],
   "source": [
    "# Generate ROC curve values fpr, tpr, thresholds\n",
    "fpr, tpr, thresholds = roc_curve(y_test, y_pred_grid)\n",
    "\n",
    "# Plot ROC curve\n",
    "_=plt.plot([0, 1], [0, 1], 'k--')\n",
    "_=plt.plot(fpr, tpr)\n",
    "_=plt.xlabel('False Positive Rate')\n",
    "_=plt.ylabel('True Positive Rate')\n",
    "_=plt.title('ROC Curve')\n",
    "plt.show()"
   ]
  },
  {
   "cell_type": "markdown",
   "metadata": {},
   "source": [
    "##### RFC Balanced Weight"
   ]
  },
  {
   "cell_type": "markdown",
   "metadata": {},
   "source": [
    "Since we know that our target is imbalanced (an arrest only happens 24% of the time), we can make the classifier aware of the imbalanced data by incorporating the weights of the classes into the cost function, by using the utility function class_weight = 'balanced'. Intuitively, we want to give higher weight to the minority class (an arrest) and lower weight to the majority class (non-arrest). "
   ]
  },
  {
   "cell_type": "code",
   "execution_count": 35,
   "metadata": {
    "code_folding": []
   },
   "outputs": [],
   "source": [
    "# Establish rfc with gridsearch where class weight is balanced\n",
    "rfc = RandomForestClassifier(class_weight='balanced')\n",
    "grid_rfc = GridSearchCV(rfc, rfc_param_grid, cv = 3, n_jobs = -1, scoring = 'precision', verbose = 1)"
   ]
  },
  {
   "cell_type": "code",
   "execution_count": 36,
   "metadata": {
    "code_folding": []
   },
   "outputs": [
    {
     "name": "stdout",
     "output_type": "stream",
     "text": [
      "Fitting 3 folds for each of 36 candidates, totalling 108 fits\n"
     ]
    },
    {
     "name": "stderr",
     "output_type": "stream",
     "text": [
      "[Parallel(n_jobs=-1)]: Using backend LokyBackend with 8 concurrent workers.\n",
      "[Parallel(n_jobs=-1)]: Done  34 tasks      | elapsed:   22.5s\n",
      "[Parallel(n_jobs=-1)]: Done 108 out of 108 | elapsed:  1.5min finished\n"
     ]
    },
    {
     "data": {
      "text/plain": [
       "GridSearchCV(cv=3, error_score='raise-deprecating',\n",
       "             estimator=RandomForestClassifier(bootstrap=True,\n",
       "                                              class_weight='balanced',\n",
       "                                              criterion='gini', max_depth=None,\n",
       "                                              max_features='auto',\n",
       "                                              max_leaf_nodes=None,\n",
       "                                              min_impurity_decrease=0.0,\n",
       "                                              min_impurity_split=None,\n",
       "                                              min_samples_leaf=1,\n",
       "                                              min_samples_split=2,\n",
       "                                              min_weight_fraction_leaf=0.0,\n",
       "                                              n_estimators='warn', n_jobs=None,\n",
       "                                              oob_score=False,\n",
       "                                              random_state=None, verbose=0,\n",
       "                                              warm_start=False),\n",
       "             iid='warn', n_jobs=-1,\n",
       "             param_grid={'class_weight': ['balanced', 'balanced_subsample'],\n",
       "                         'max_depth': [30, 40, 50],\n",
       "                         'min_impurity_decrease': [0.0001, 1e-05],\n",
       "                         'n_estimators': [350, 400, 450]},\n",
       "             pre_dispatch='2*n_jobs', refit=True, return_train_score=False,\n",
       "             scoring='precision', verbose=1)"
      ]
     },
     "execution_count": 36,
     "metadata": {},
     "output_type": "execute_result"
    }
   ],
   "source": [
    "# Fit Random Forest Classifier on data\n",
    "grid_rfc.fit(X_train,y_train)"
   ]
  },
  {
   "cell_type": "code",
   "execution_count": 37,
   "metadata": {},
   "outputs": [
    {
     "name": "stdout",
     "output_type": "stream",
     "text": [
      "{'class_weight': 'balanced', 'max_depth': 30, 'min_impurity_decrease': 1e-05, 'n_estimators': 350}\n",
      "RandomForestClassifier(bootstrap=True, class_weight='balanced',\n",
      "                       criterion='gini', max_depth=30, max_features='auto',\n",
      "                       max_leaf_nodes=None, min_impurity_decrease=1e-05,\n",
      "                       min_impurity_split=None, min_samples_leaf=1,\n",
      "                       min_samples_split=2, min_weight_fraction_leaf=0.0,\n",
      "                       n_estimators=350, n_jobs=None, oob_score=False,\n",
      "                       random_state=None, verbose=0, warm_start=False)\n"
     ]
    }
   ],
   "source": [
    "#  Print best parameters and estimator\n",
    "print(grid_rfc.best_params_)\n",
    "print(grid_rfc.best_estimator_)"
   ]
  },
  {
   "cell_type": "code",
   "execution_count": 38,
   "metadata": {},
   "outputs": [],
   "source": [
    "# Predict on the test set\n",
    "y_pred_grid=grid_rfc.best_estimator_.predict(X_test)"
   ]
  },
  {
   "cell_type": "markdown",
   "metadata": {},
   "source": [
    "##### RFC Balanced Weight Scores"
   ]
  },
  {
   "cell_type": "code",
   "execution_count": 62,
   "metadata": {
    "scrolled": false
   },
   "outputs": [
    {
     "name": "stdout",
     "output_type": "stream",
     "text": [
      "Prec: 0.3422657252888318\n",
      "F1: 0.48257918552036194\n",
      "Acc: 0.5730819488519694\n",
      "Rec: 0.8178680981595092\n"
     ]
    }
   ],
   "source": [
    "# Get F1, accuracy, precision, and recall scores\n",
    "print(\"Prec:\",metrics.precision_score(y_test, y_pred_grid))\n",
    "print(\"F1:\",metrics.f1_score(y_test, y_pred_grid))\n",
    "\n",
    "print(\"Acc:\",metrics.accuracy_score(y_test, y_pred_grid))\n",
    "print(\"Rec:\",metrics.recall_score(y_test, y_pred_grid))"
   ]
  },
  {
   "cell_type": "code",
   "execution_count": 40,
   "metadata": {},
   "outputs": [
    {
     "name": "stdout",
     "output_type": "stream",
     "text": [
      "[[4007 4099]\n",
      " [ 475 2133]]\n",
      "              precision    recall  f1-score   support\n",
      "\n",
      "           0       0.89      0.49      0.64      8106\n",
      "           1       0.34      0.82      0.48      2608\n",
      "\n",
      "    accuracy                           0.57     10714\n",
      "   macro avg       0.62      0.66      0.56     10714\n",
      "weighted avg       0.76      0.57      0.60     10714\n",
      "\n"
     ]
    }
   ],
   "source": [
    "print(confusion_matrix(y_test, y_pred_grid))\n",
    "print(classification_report(y_test, y_pred_grid))"
   ]
  },
  {
   "cell_type": "code",
   "execution_count": 41,
   "metadata": {},
   "outputs": [
    {
     "data": {
      "image/png": "[encoded data removed]",
      "text/plain": [
       "<Figure size 432x288 with 1 Axes>"
      ]
     },
     "metadata": {
      "needs_background": "light"
     },
     "output_type": "display_data"
    }
   ],
   "source": [
    "# Generate ROC curve values fpr, tpr, thresholds\n",
    "fpr, tpr, thresholds = roc_curve(y_test, y_pred_grid)\n",
    "\n",
    "# Plot ROC curve\n",
    "_=plt.plot([0, 1], [0, 1], 'k--')\n",
    "_=plt.plot(fpr, tpr)\n",
    "_=plt.xlabel('False Positive Rate')\n",
    "_=plt.ylabel('True Positive Rate')\n",
    "_=plt.title('ROC Curve')\n",
    "plt.show()"
   ]
  },
  {
   "cell_type": "markdown",
   "metadata": {},
   "source": [
    "##### Feature Importance\n",
    "Feature selection is an important step in model tuning because it reduces dimensionality which improves the model speed and performance."
   ]
  },
  {
   "cell_type": "code",
   "execution_count": 42,
   "metadata": {
    "code_folding": [],
    "scrolled": true
   },
   "outputs": [
    {
     "data": {
      "text/html": [
       "<div>\n",
       "<style scoped>\n",
       "    .dataframe tbody tr th:only-of-type {\n",
       "        vertical-align: middle;\n",
       "    }\n",
       "\n",
       "    .dataframe tbody tr th {\n",
       "        vertical-align: top;\n",
       "    }\n",
       "\n",
       "    .dataframe thead th {\n",
       "        text-align: right;\n",
       "    }\n",
       "</style>\n",
       "<table border=\"1\" class=\"dataframe\">\n",
       "  <thead>\n",
       "    <tr style=\"text-align: right;\">\n",
       "      <th></th>\n",
       "      <th>0</th>\n",
       "    </tr>\n",
       "  </thead>\n",
       "  <tbody>\n",
       "    <tr>\n",
       "      <td>call_type_0</td>\n",
       "      <td>0.341806</td>\n",
       "    </tr>\n",
       "    <tr>\n",
       "      <td>off_age</td>\n",
       "      <td>0.229176</td>\n",
       "    </tr>\n",
       "    <tr>\n",
       "      <td>call_type_1</td>\n",
       "      <td>0.217346</td>\n",
       "    </tr>\n",
       "    <tr>\n",
       "      <td>beat_M</td>\n",
       "      <td>0.047565</td>\n",
       "    </tr>\n",
       "    <tr>\n",
       "      <td>weapon_Blade</td>\n",
       "      <td>0.040401</td>\n",
       "    </tr>\n",
       "    <tr>\n",
       "      <td>beat_E</td>\n",
       "      <td>0.030271</td>\n",
       "    </tr>\n",
       "    <tr>\n",
       "      <td>beat_K</td>\n",
       "      <td>0.023323</td>\n",
       "    </tr>\n",
       "    <tr>\n",
       "      <td>off_race_White</td>\n",
       "      <td>0.018449</td>\n",
       "    </tr>\n",
       "    <tr>\n",
       "      <td>subj_perceived_race_Black or African American</td>\n",
       "      <td>0.017445</td>\n",
       "    </tr>\n",
       "    <tr>\n",
       "      <td>subj_perceived_race_White</td>\n",
       "      <td>0.013908</td>\n",
       "    </tr>\n",
       "    <tr>\n",
       "      <td>beat_F</td>\n",
       "      <td>0.010390</td>\n",
       "    </tr>\n",
       "    <tr>\n",
       "      <td>beat_U</td>\n",
       "      <td>0.009919</td>\n",
       "    </tr>\n",
       "  </tbody>\n",
       "</table>\n",
       "</div>"
      ],
      "text/plain": [
       "                                                      0\n",
       "call_type_0                                    0.341806\n",
       "off_age                                        0.229176\n",
       "call_type_1                                    0.217346\n",
       "beat_M                                         0.047565\n",
       "weapon_Blade                                   0.040401\n",
       "beat_E                                         0.030271\n",
       "beat_K                                         0.023323\n",
       "off_race_White                                 0.018449\n",
       "subj_perceived_race_Black or African American  0.017445\n",
       "subj_perceived_race_White                      0.013908\n",
       "beat_F                                         0.010390\n",
       "beat_U                                         0.009919"
      ]
     },
     "execution_count": 42,
     "metadata": {},
     "output_type": "execute_result"
    }
   ],
   "source": [
    "# List of features in order of importance\n",
    "feat_importances = pd.Series(grid_rfc.best_estimator_.feature_importances_, index=X.columns)\n",
    "df_feat_importances = pd.DataFrame(feat_importances)\n",
    "df_feat_importances.sort_values(by=[0], ascending=False)"
   ]
  },
  {
   "cell_type": "markdown",
   "metadata": {},
   "source": [
    "Overall, the most important features appear to be when the officer was called to the location (via 911, text etc.), if the location was in a high-crime beat, if the subject had a blade as a weapon, if the officer or subject race was white or if the subject race was black. These features will be used in classification models to predict whether a stop will result in an arrest or not (where stop_resolution = 1 for arrest and 0 for all others)."
   ]
  },
  {
   "cell_type": "markdown",
   "metadata": {},
   "source": [
    "# Logistic Regression"
   ]
  },
  {
   "cell_type": "markdown",
   "metadata": {},
   "source": [
    "Logistic regression predicts categorical (binomial/multinomial) outcomes in the form of probabilities by using  a cross-entropy cost function known as Log Loss. Logarithmic loss measures the performance of a classification model where probability ranges between 0 and 1. Log loss increases as the predicted probability diverges from the actual. Therefore, the goal of our logarithmic regression model is to minimize the log loss and hence approach 1 for the predicted probability, wherein the prediction is as close to the actual value as possible."
   ]
  },
  {
   "cell_type": "code",
   "execution_count": 43,
   "metadata": {},
   "outputs": [],
   "source": [
    "# Logistic regression parameter grid\n",
    "log_param_grid = { \n",
    "    'fit_intercept': ['True', 'False'],\n",
    "    'intercept_scaling': [1,.01,.001,.0001],\n",
    "    'C': [1,0.01,0.1,0.0001],\n",
    "    'tol': [0.01,0.001,0.0001],\n",
    "    'max_iter': [50,100,150,200]\n",
    "}"
   ]
  },
  {
   "cell_type": "markdown",
   "metadata": {},
   "source": [
    "##### LR Imbalanced Weight"
   ]
  },
  {
   "cell_type": "code",
   "execution_count": 44,
   "metadata": {},
   "outputs": [
    {
     "name": "stdout",
     "output_type": "stream",
     "text": [
      "Fitting 3 folds for each of 384 candidates, totalling 1152 fits\n"
     ]
    },
    {
     "name": "stderr",
     "output_type": "stream",
     "text": [
      "[Parallel(n_jobs=-1)]: Using backend LokyBackend with 8 concurrent workers.\n",
      "[Parallel(n_jobs=-1)]: Done  52 tasks      | elapsed:    1.2s\n",
      "[Parallel(n_jobs=-1)]: Done 352 tasks      | elapsed:    6.2s\n",
      "[Parallel(n_jobs=-1)]: Done 852 tasks      | elapsed:   13.9s\n",
      "[Parallel(n_jobs=-1)]: Done 1152 out of 1152 | elapsed:   17.0s finished\n"
     ]
    },
    {
     "data": {
      "text/plain": [
       "GridSearchCV(cv=3, error_score='raise-deprecating',\n",
       "             estimator=LogisticRegression(C=1.0, class_weight=None, dual=False,\n",
       "                                          fit_intercept=True,\n",
       "                                          intercept_scaling=1, l1_ratio=None,\n",
       "                                          max_iter=100, multi_class='ovr',\n",
       "                                          n_jobs=None, penalty='l2',\n",
       "                                          random_state=None, solver='liblinear',\n",
       "                                          tol=0.0001, verbose=0,\n",
       "                                          warm_start=False),\n",
       "             iid='warn', n_jobs=-1,\n",
       "             param_grid={'C': [1, 0.01, 0.1, 0.0001],\n",
       "                         'fit_intercept': ['True', 'False'],\n",
       "                         'intercept_scaling': [1, 0.01, 0.001, 0.0001],\n",
       "                         'max_iter': [50, 100, 150, 200],\n",
       "                         'tol': [0.01, 0.001, 0.0001]},\n",
       "             pre_dispatch='2*n_jobs', refit=True, return_train_score=False,\n",
       "             scoring='f1', verbose=1)"
      ]
     },
     "execution_count": 44,
     "metadata": {},
     "output_type": "execute_result"
    }
   ],
   "source": [
    "logreg = LogisticRegression(multi_class='ovr', solver = 'liblinear')\n",
    "grid_logreg = GridSearchCV(logreg, log_param_grid, cv=3, scoring='f1', verbose=1, n_jobs=-1)\n",
    "grid_logreg.fit(X_train_SMOTE,y_train_SMOTE)"
   ]
  },
  {
   "cell_type": "code",
   "execution_count": 45,
   "metadata": {},
   "outputs": [],
   "source": [
    "# Predict on the test set\n",
    "log_y_pred_grid=grid_logreg.best_estimator_.predict(X_test)"
   ]
  },
  {
   "cell_type": "code",
   "execution_count": 46,
   "metadata": {},
   "outputs": [
    {
     "name": "stdout",
     "output_type": "stream",
     "text": [
      "{'C': 1, 'fit_intercept': 'True', 'intercept_scaling': 1, 'max_iter': 50, 'tol': 0.001}\n",
      "LogisticRegression(C=1, class_weight=None, dual=False, fit_intercept='True',\n",
      "                   intercept_scaling=1, l1_ratio=None, max_iter=50,\n",
      "                   multi_class='ovr', n_jobs=None, penalty='l2',\n",
      "                   random_state=None, solver='liblinear', tol=0.001, verbose=0,\n",
      "                   warm_start=False)\n"
     ]
    }
   ],
   "source": [
    "# Best parameters and best estimator\n",
    "print(grid_logreg.best_params_)\n",
    "print(grid_logreg.best_estimator_)"
   ]
  },
  {
   "cell_type": "markdown",
   "metadata": {},
   "source": [
    "##### LR Imbalanced Weight Scores"
   ]
  },
  {
   "cell_type": "code",
   "execution_count": 64,
   "metadata": {
    "scrolled": true
   },
   "outputs": [
    {
     "name": "stdout",
     "output_type": "stream",
     "text": [
      "Prec: 0.3422657252888318\n",
      "F1: 0.48257918552036194\n",
      "Acc: 0.5730819488519694\n",
      "Rec: 0.8178680981595092\n"
     ]
    }
   ],
   "source": [
    "# Print scores\n",
    "print(\"Prec:\",metrics.precision_score(y_test, y_pred_grid))\n",
    "print(\"F1:\",metrics.f1_score(y_test, y_pred_grid))\n",
    "\n",
    "print(\"Acc:\",metrics.accuracy_score(y_test, y_pred_grid))\n",
    "print(\"Rec:\",metrics.recall_score(y_test, y_pred_grid))"
   ]
  },
  {
   "cell_type": "code",
   "execution_count": 48,
   "metadata": {},
   "outputs": [
    {
     "name": "stdout",
     "output_type": "stream",
     "text": [
      "[[4007 4099]\n",
      " [ 475 2133]]\n",
      "              precision    recall  f1-score   support\n",
      "\n",
      "           0       0.89      0.49      0.64      8106\n",
      "           1       0.34      0.82      0.48      2608\n",
      "\n",
      "    accuracy                           0.57     10714\n",
      "   macro avg       0.62      0.66      0.56     10714\n",
      "weighted avg       0.76      0.57      0.60     10714\n",
      "\n"
     ]
    }
   ],
   "source": [
    "print(confusion_matrix(y_test, y_pred_grid))\n",
    "print(classification_report(y_test, y_pred_grid))"
   ]
  },
  {
   "cell_type": "code",
   "execution_count": 49,
   "metadata": {},
   "outputs": [
    {
     "data": {
      "image/png": "[encoded data removed]",
      "text/plain": [
       "<Figure size 432x288 with 1 Axes>"
      ]
     },
     "metadata": {
      "needs_background": "light"
     },
     "output_type": "display_data"
    }
   ],
   "source": [
    "# Generate ROC curve values fpr, tpr, thresholds\n",
    "fpr, tpr, thresholds = roc_curve(y_test, y_pred_grid)\n",
    "\n",
    "# Plot ROC curve\n",
    "_=plt.plot([0, 1], [0, 1], 'k--')\n",
    "_=plt.plot(fpr, tpr)\n",
    "_=plt.xlabel('False Positive Rate')\n",
    "_=plt.ylabel('True Positive Rate')\n",
    "_=plt.title('ROC Curve')\n",
    "plt.show()"
   ]
  },
  {
   "cell_type": "code",
   "execution_count": 50,
   "metadata": {},
   "outputs": [],
   "source": [
    "# Get coefficients\n",
    "import statsmodels.api as sm\n",
    "model = sm.Logit(cat_df.stop_resolution, cat_df[['call_type_1',\n",
    "                             'call_type_0',\n",
    "                             'weapon_Blade',\n",
    "                             'beat_M',\n",
    "                             'beat_U',\n",
    "                             'beat_K',\n",
    "                             'beat_E',\n",
    "                             'beat_F',\n",
    "                             'off_race_White',\n",
    "                             'subj_perceived_race_White',\n",
    "                             'subj_perceived_race_Black or African American',\n",
    "                             'off_age']])\n",
    "                            \n"
   ]
  },
  {
   "cell_type": "code",
   "execution_count": 51,
   "metadata": {
    "scrolled": true
   },
   "outputs": [
    {
     "name": "stdout",
     "output_type": "stream",
     "text": [
      "Optimization terminated successfully.\n",
      "         Current function value: 0.510079\n",
      "         Iterations 6\n"
     ]
    },
    {
     "data": {
      "text/html": [
       "<table class=\"simpletable\">\n",
       "<caption>Logit Regression Results</caption>\n",
       "<tr>\n",
       "  <th>Dep. Variable:</th>    <td>stop_resolution</td> <th>  No. Observations:  </th>  <td> 42853</td> \n",
       "</tr>\n",
       "<tr>\n",
       "  <th>Model:</th>                 <td>Logit</td>      <th>  Df Residuals:      </th>  <td> 42841</td> \n",
       "</tr>\n",
       "<tr>\n",
       "  <th>Method:</th>                 <td>MLE</td>       <th>  Df Model:          </th>  <td>    11</td> \n",
       "</tr>\n",
       "<tr>\n",
       "  <th>Date:</th>            <td>Wed, 02 Dec 2020</td> <th>  Pseudo R-squ.:     </th>  <td>0.07635</td>\n",
       "</tr>\n",
       "<tr>\n",
       "  <th>Time:</th>                <td>11:29:26</td>     <th>  Log-Likelihood:    </th> <td> -21858.</td>\n",
       "</tr>\n",
       "<tr>\n",
       "  <th>converged:</th>             <td>True</td>       <th>  LL-Null:           </th> <td> -23665.</td>\n",
       "</tr>\n",
       "<tr>\n",
       "  <th>Covariance Type:</th>     <td>nonrobust</td>    <th>  LLR p-value:       </th>  <td> 0.000</td> \n",
       "</tr>\n",
       "</table>\n",
       "<table class=\"simpletable\">\n",
       "<tr>\n",
       "                        <td></td>                           <th>coef</th>     <th>std err</th>      <th>z</th>      <th>P>|z|</th>  <th>[0.025</th>    <th>0.975]</th>  \n",
       "</tr>\n",
       "<tr>\n",
       "  <th>call_type_1</th>                                   <td>    1.4082</td> <td>    0.038</td> <td>   36.863</td> <td> 0.000</td> <td>    1.333</td> <td>    1.483</td>\n",
       "</tr>\n",
       "<tr>\n",
       "  <th>call_type_0</th>                                   <td>    1.4204</td> <td>    0.032</td> <td>   44.510</td> <td> 0.000</td> <td>    1.358</td> <td>    1.483</td>\n",
       "</tr>\n",
       "<tr>\n",
       "  <th>weapon_Blade</th>                                  <td>    0.8020</td> <td>    0.051</td> <td>   15.646</td> <td> 0.000</td> <td>    0.702</td> <td>    0.903</td>\n",
       "</tr>\n",
       "<tr>\n",
       "  <th>beat_M</th>                                        <td>    0.4289</td> <td>    0.042</td> <td>   10.235</td> <td> 0.000</td> <td>    0.347</td> <td>    0.511</td>\n",
       "</tr>\n",
       "<tr>\n",
       "  <th>beat_U</th>                                        <td>   -0.1693</td> <td>    0.064</td> <td>   -2.658</td> <td> 0.008</td> <td>   -0.294</td> <td>   -0.044</td>\n",
       "</tr>\n",
       "<tr>\n",
       "  <th>beat_K</th>                                        <td>    0.1107</td> <td>    0.044</td> <td>    2.543</td> <td> 0.011</td> <td>    0.025</td> <td>    0.196</td>\n",
       "</tr>\n",
       "<tr>\n",
       "  <th>beat_E</th>                                        <td>    0.1912</td> <td>    0.042</td> <td>    4.516</td> <td> 0.000</td> <td>    0.108</td> <td>    0.274</td>\n",
       "</tr>\n",
       "<tr>\n",
       "  <th>beat_F</th>                                        <td>   -0.1609</td> <td>    0.059</td> <td>   -2.724</td> <td> 0.006</td> <td>   -0.277</td> <td>   -0.045</td>\n",
       "</tr>\n",
       "<tr>\n",
       "  <th>off_race_White</th>                                <td>   -0.1805</td> <td>    0.027</td> <td>   -6.808</td> <td> 0.000</td> <td>   -0.232</td> <td>   -0.129</td>\n",
       "</tr>\n",
       "<tr>\n",
       "  <th>subj_perceived_race_White</th>                     <td>   -0.2301</td> <td>    0.029</td> <td>   -7.967</td> <td> 0.000</td> <td>   -0.287</td> <td>   -0.174</td>\n",
       "</tr>\n",
       "<tr>\n",
       "  <th>subj_perceived_race_Black or African American</th> <td>   -0.0851</td> <td>    0.031</td> <td>   -2.729</td> <td> 0.006</td> <td>   -0.146</td> <td>   -0.024</td>\n",
       "</tr>\n",
       "<tr>\n",
       "  <th>off_age</th>                                       <td>   -0.0594</td> <td>    0.001</td> <td>  -57.926</td> <td> 0.000</td> <td>   -0.061</td> <td>   -0.057</td>\n",
       "</tr>\n",
       "</table>"
      ],
      "text/plain": [
       "<class 'statsmodels.iolib.summary.Summary'>\n",
       "\"\"\"\n",
       "                           Logit Regression Results                           \n",
       "==============================================================================\n",
       "Dep. Variable:        stop_resolution   No. Observations:                42853\n",
       "Model:                          Logit   Df Residuals:                    42841\n",
       "Method:                           MLE   Df Model:                           11\n",
       "Date:                Wed, 02 Dec 2020   Pseudo R-squ.:                 0.07635\n",
       "Time:                        11:29:26   Log-Likelihood:                -21858.\n",
       "converged:                       True   LL-Null:                       -23665.\n",
       "Covariance Type:            nonrobust   LLR p-value:                     0.000\n",
       "=================================================================================================================\n",
       "                                                    coef    std err          z      P>|z|      [0.025      0.975]\n",
       "-----------------------------------------------------------------------------------------------------------------\n",
       "call_type_1                                       1.4082      0.038     36.863      0.000       1.333       1.483\n",
       "call_type_0                                       1.4204      0.032     44.510      0.000       1.358       1.483\n",
       "weapon_Blade                                      0.8020      0.051     15.646      0.000       0.702       0.903\n",
       "beat_M                                            0.4289      0.042     10.235      0.000       0.347       0.511\n",
       "beat_U                                           -0.1693      0.064     -2.658      0.008      -0.294      -0.044\n",
       "beat_K                                            0.1107      0.044      2.543      0.011       0.025       0.196\n",
       "beat_E                                            0.1912      0.042      4.516      0.000       0.108       0.274\n",
       "beat_F                                           -0.1609      0.059     -2.724      0.006      -0.277      -0.045\n",
       "off_race_White                                   -0.1805      0.027     -6.808      0.000      -0.232      -0.129\n",
       "subj_perceived_race_White                        -0.2301      0.029     -7.967      0.000      -0.287      -0.174\n",
       "subj_perceived_race_Black or African American    -0.0851      0.031     -2.729      0.006      -0.146      -0.024\n",
       "off_age                                          -0.0594      0.001    -57.926      0.000      -0.061      -0.057\n",
       "=================================================================================================================\n",
       "\"\"\""
      ]
     },
     "execution_count": 51,
     "metadata": {},
     "output_type": "execute_result"
    }
   ],
   "source": [
    "# Get results\n",
    "result = model.fit()\n",
    "result.summary()"
   ]
  },
  {
   "cell_type": "markdown",
   "metadata": {},
   "source": [
    "##### LR Balanced Weight"
   ]
  },
  {
   "cell_type": "code",
   "execution_count": 52,
   "metadata": {},
   "outputs": [
    {
     "name": "stdout",
     "output_type": "stream",
     "text": [
      "Fitting 3 folds for each of 384 candidates, totalling 1152 fits\n"
     ]
    },
    {
     "name": "stderr",
     "output_type": "stream",
     "text": [
      "[Parallel(n_jobs=-1)]: Using backend LokyBackend with 8 concurrent workers.\n",
      "[Parallel(n_jobs=-1)]: Done  52 tasks      | elapsed:    1.1s\n",
      "[Parallel(n_jobs=-1)]: Done 352 tasks      | elapsed:    5.9s\n",
      "[Parallel(n_jobs=-1)]: Done 852 tasks      | elapsed:   13.9s\n",
      "[Parallel(n_jobs=-1)]: Done 1152 out of 1152 | elapsed:   17.1s finished\n"
     ]
    },
    {
     "data": {
      "text/plain": [
       "GridSearchCV(cv=3, error_score='raise-deprecating',\n",
       "             estimator=LogisticRegression(C=1.0, class_weight='balanced',\n",
       "                                          dual=False, fit_intercept=True,\n",
       "                                          intercept_scaling=1, l1_ratio=None,\n",
       "                                          max_iter=100, multi_class='ovr',\n",
       "                                          n_jobs=None, penalty='l2',\n",
       "                                          random_state=None, solver='liblinear',\n",
       "                                          tol=0.0001, verbose=0,\n",
       "                                          warm_start=False),\n",
       "             iid='warn', n_jobs=-1,\n",
       "             param_grid={'C': [1, 0.01, 0.1, 0.0001],\n",
       "                         'fit_intercept': ['True', 'False'],\n",
       "                         'intercept_scaling': [1, 0.01, 0.001, 0.0001],\n",
       "                         'max_iter': [50, 100, 150, 200],\n",
       "                         'tol': [0.01, 0.001, 0.0001]},\n",
       "             pre_dispatch='2*n_jobs', refit=True, return_train_score=False,\n",
       "             scoring='f1', verbose=1)"
      ]
     },
     "execution_count": 52,
     "metadata": {},
     "output_type": "execute_result"
    }
   ],
   "source": [
    "logreg = LogisticRegression(multi_class='ovr', solver = 'liblinear', class_weight = 'balanced')\n",
    "grid_logreg = GridSearchCV(logreg, log_param_grid, cv=3, scoring='f1', verbose=1, n_jobs=-1)\n",
    "grid_logreg.fit(X_train_SMOTE,y_train_SMOTE)"
   ]
  },
  {
   "cell_type": "code",
   "execution_count": 53,
   "metadata": {},
   "outputs": [],
   "source": [
    "# Predict on the test set\n",
    "log_y_pred_grid=grid_logreg.best_estimator_.predict(X_test)"
   ]
  },
  {
   "cell_type": "code",
   "execution_count": 54,
   "metadata": {},
   "outputs": [
    {
     "name": "stdout",
     "output_type": "stream",
     "text": [
      "{'C': 1, 'fit_intercept': 'True', 'intercept_scaling': 1, 'max_iter': 50, 'tol': 0.001}\n",
      "LogisticRegression(C=1, class_weight='balanced', dual=False,\n",
      "                   fit_intercept='True', intercept_scaling=1, l1_ratio=None,\n",
      "                   max_iter=50, multi_class='ovr', n_jobs=None, penalty='l2',\n",
      "                   random_state=None, solver='liblinear', tol=0.001, verbose=0,\n",
      "                   warm_start=False)\n"
     ]
    }
   ],
   "source": [
    "# Best parameters and best estimator\n",
    "print(grid_logreg.best_params_)\n",
    "print(grid_logreg.best_estimator_)"
   ]
  },
  {
   "cell_type": "markdown",
   "metadata": {},
   "source": [
    "##### LR Balanced Weight Scores"
   ]
  },
  {
   "cell_type": "code",
   "execution_count": 65,
   "metadata": {},
   "outputs": [
    {
     "name": "stdout",
     "output_type": "stream",
     "text": [
      "Prec: 0.33143191458241916\n",
      "F1: 0.4798305982001058\n",
      "Acc: 0.5414411050961359\n",
      "Rec: 0.8688650306748467\n"
     ]
    }
   ],
   "source": [
    "# Print scores\n",
    "print(\"Prec:\",metrics.precision_score(y_test, log_y_pred_grid))\n",
    "print(\"F1:\",metrics.f1_score(y_test, log_y_pred_grid))\n",
    "\n",
    "print(\"Acc:\",metrics.accuracy_score(y_test, log_y_pred_grid))\n",
    "print(\"Rec:\",metrics.recall_score(y_test, log_y_pred_grid))"
   ]
  },
  {
   "cell_type": "code",
   "execution_count": 56,
   "metadata": {},
   "outputs": [
    {
     "name": "stdout",
     "output_type": "stream",
     "text": [
      "Optimization terminated successfully.\n",
      "         Current function value: 0.510079\n",
      "         Iterations 6\n"
     ]
    },
    {
     "data": {
      "text/html": [
       "<table class=\"simpletable\">\n",
       "<caption>Logit Regression Results</caption>\n",
       "<tr>\n",
       "  <th>Dep. Variable:</th>    <td>stop_resolution</td> <th>  No. Observations:  </th>  <td> 42853</td> \n",
       "</tr>\n",
       "<tr>\n",
       "  <th>Model:</th>                 <td>Logit</td>      <th>  Df Residuals:      </th>  <td> 42841</td> \n",
       "</tr>\n",
       "<tr>\n",
       "  <th>Method:</th>                 <td>MLE</td>       <th>  Df Model:          </th>  <td>    11</td> \n",
       "</tr>\n",
       "<tr>\n",
       "  <th>Date:</th>            <td>Wed, 02 Dec 2020</td> <th>  Pseudo R-squ.:     </th>  <td>0.07635</td>\n",
       "</tr>\n",
       "<tr>\n",
       "  <th>Time:</th>                <td>11:29:43</td>     <th>  Log-Likelihood:    </th> <td> -21858.</td>\n",
       "</tr>\n",
       "<tr>\n",
       "  <th>converged:</th>             <td>True</td>       <th>  LL-Null:           </th> <td> -23665.</td>\n",
       "</tr>\n",
       "<tr>\n",
       "  <th>Covariance Type:</th>     <td>nonrobust</td>    <th>  LLR p-value:       </th>  <td> 0.000</td> \n",
       "</tr>\n",
       "</table>\n",
       "<table class=\"simpletable\">\n",
       "<tr>\n",
       "                        <td></td>                           <th>coef</th>     <th>std err</th>      <th>z</th>      <th>P>|z|</th>  <th>[0.025</th>    <th>0.975]</th>  \n",
       "</tr>\n",
       "<tr>\n",
       "  <th>call_type_1</th>                                   <td>    1.4082</td> <td>    0.038</td> <td>   36.863</td> <td> 0.000</td> <td>    1.333</td> <td>    1.483</td>\n",
       "</tr>\n",
       "<tr>\n",
       "  <th>call_type_0</th>                                   <td>    1.4204</td> <td>    0.032</td> <td>   44.510</td> <td> 0.000</td> <td>    1.358</td> <td>    1.483</td>\n",
       "</tr>\n",
       "<tr>\n",
       "  <th>weapon_Blade</th>                                  <td>    0.8020</td> <td>    0.051</td> <td>   15.646</td> <td> 0.000</td> <td>    0.702</td> <td>    0.903</td>\n",
       "</tr>\n",
       "<tr>\n",
       "  <th>beat_M</th>                                        <td>    0.4289</td> <td>    0.042</td> <td>   10.235</td> <td> 0.000</td> <td>    0.347</td> <td>    0.511</td>\n",
       "</tr>\n",
       "<tr>\n",
       "  <th>beat_U</th>                                        <td>   -0.1693</td> <td>    0.064</td> <td>   -2.658</td> <td> 0.008</td> <td>   -0.294</td> <td>   -0.044</td>\n",
       "</tr>\n",
       "<tr>\n",
       "  <th>beat_K</th>                                        <td>    0.1107</td> <td>    0.044</td> <td>    2.543</td> <td> 0.011</td> <td>    0.025</td> <td>    0.196</td>\n",
       "</tr>\n",
       "<tr>\n",
       "  <th>beat_E</th>                                        <td>    0.1912</td> <td>    0.042</td> <td>    4.516</td> <td> 0.000</td> <td>    0.108</td> <td>    0.274</td>\n",
       "</tr>\n",
       "<tr>\n",
       "  <th>beat_F</th>                                        <td>   -0.1609</td> <td>    0.059</td> <td>   -2.724</td> <td> 0.006</td> <td>   -0.277</td> <td>   -0.045</td>\n",
       "</tr>\n",
       "<tr>\n",
       "  <th>off_race_White</th>                                <td>   -0.1805</td> <td>    0.027</td> <td>   -6.808</td> <td> 0.000</td> <td>   -0.232</td> <td>   -0.129</td>\n",
       "</tr>\n",
       "<tr>\n",
       "  <th>subj_perceived_race_White</th>                     <td>   -0.2301</td> <td>    0.029</td> <td>   -7.967</td> <td> 0.000</td> <td>   -0.287</td> <td>   -0.174</td>\n",
       "</tr>\n",
       "<tr>\n",
       "  <th>subj_perceived_race_Black or African American</th> <td>   -0.0851</td> <td>    0.031</td> <td>   -2.729</td> <td> 0.006</td> <td>   -0.146</td> <td>   -0.024</td>\n",
       "</tr>\n",
       "<tr>\n",
       "  <th>off_age</th>                                       <td>   -0.0594</td> <td>    0.001</td> <td>  -57.926</td> <td> 0.000</td> <td>   -0.061</td> <td>   -0.057</td>\n",
       "</tr>\n",
       "</table>"
      ],
      "text/plain": [
       "<class 'statsmodels.iolib.summary.Summary'>\n",
       "\"\"\"\n",
       "                           Logit Regression Results                           \n",
       "==============================================================================\n",
       "Dep. Variable:        stop_resolution   No. Observations:                42853\n",
       "Model:                          Logit   Df Residuals:                    42841\n",
       "Method:                           MLE   Df Model:                           11\n",
       "Date:                Wed, 02 Dec 2020   Pseudo R-squ.:                 0.07635\n",
       "Time:                        11:29:43   Log-Likelihood:                -21858.\n",
       "converged:                       True   LL-Null:                       -23665.\n",
       "Covariance Type:            nonrobust   LLR p-value:                     0.000\n",
       "=================================================================================================================\n",
       "                                                    coef    std err          z      P>|z|      [0.025      0.975]\n",
       "-----------------------------------------------------------------------------------------------------------------\n",
       "call_type_1                                       1.4082      0.038     36.863      0.000       1.333       1.483\n",
       "call_type_0                                       1.4204      0.032     44.510      0.000       1.358       1.483\n",
       "weapon_Blade                                      0.8020      0.051     15.646      0.000       0.702       0.903\n",
       "beat_M                                            0.4289      0.042     10.235      0.000       0.347       0.511\n",
       "beat_U                                           -0.1693      0.064     -2.658      0.008      -0.294      -0.044\n",
       "beat_K                                            0.1107      0.044      2.543      0.011       0.025       0.196\n",
       "beat_E                                            0.1912      0.042      4.516      0.000       0.108       0.274\n",
       "beat_F                                           -0.1609      0.059     -2.724      0.006      -0.277      -0.045\n",
       "off_race_White                                   -0.1805      0.027     -6.808      0.000      -0.232      -0.129\n",
       "subj_perceived_race_White                        -0.2301      0.029     -7.967      0.000      -0.287      -0.174\n",
       "subj_perceived_race_Black or African American    -0.0851      0.031     -2.729      0.006      -0.146      -0.024\n",
       "off_age                                          -0.0594      0.001    -57.926      0.000      -0.061      -0.057\n",
       "=================================================================================================================\n",
       "\"\"\""
      ]
     },
     "execution_count": 56,
     "metadata": {},
     "output_type": "execute_result"
    }
   ],
   "source": [
    "# Get results\n",
    "result = model.fit()\n",
    "result.summary()"
   ]
  },
  {
   "cell_type": "code",
   "execution_count": 57,
   "metadata": {},
   "outputs": [
    {
     "name": "stdout",
     "output_type": "stream",
     "text": [
      "[[4007 4099]\n",
      " [ 475 2133]]\n",
      "              precision    recall  f1-score   support\n",
      "\n",
      "           0       0.89      0.49      0.64      8106\n",
      "           1       0.34      0.82      0.48      2608\n",
      "\n",
      "    accuracy                           0.57     10714\n",
      "   macro avg       0.62      0.66      0.56     10714\n",
      "weighted avg       0.76      0.57      0.60     10714\n",
      "\n"
     ]
    }
   ],
   "source": [
    "print(confusion_matrix(y_test, y_pred_grid))\n",
    "print(classification_report(y_test, y_pred_grid))"
   ]
  },
  {
   "cell_type": "code",
   "execution_count": 58,
   "metadata": {},
   "outputs": [
    {
     "data": {
      "image/png": "[encoded data removed]",
      "text/plain": [
       "<Figure size 432x288 with 1 Axes>"
      ]
     },
     "metadata": {
      "needs_background": "light"
     },
     "output_type": "display_data"
    }
   ],
   "source": [
    "# Generate ROC curve values fpr, tpr, thresholds\n",
    "fpr, tpr, thresholds = roc_curve(y_test, y_pred_grid)\n",
    "\n",
    "# Plot ROC curve\n",
    "_=plt.plot([0, 1], [0, 1], 'k--')\n",
    "_=plt.plot(fpr, tpr)\n",
    "_=plt.xlabel('False Positive Rate')\n",
    "_=plt.ylabel('True Positive Rate')\n",
    "_=plt.title('ROC Curve')\n",
    "plt.show()"
   ]
  },
  {
   "cell_type": "markdown",
   "metadata": {},
   "source": [
    "# Classification Result Summary"
   ]
  },
  {
   "cell_type": "markdown",
   "metadata": {},
   "source": [
    "Here is a summary of our precision and F1 scores (which we designated as the most important in the context of this data):\n",
    "    \n",
    "- Dummy:\n",
    "\n",
    "Precision: .23   \n",
    "F1: .23\n",
    "    \n",
    "- Baseline:\n",
    "\n",
    "Precision: .33   \n",
    "F1: .48\n",
    "\n",
    "- RFC Imbalanced:\n",
    "\n",
    "Precision: .34   \n",
    "F1: .48\n",
    "\n",
    "- RFC Balanced:\n",
    "\n",
    "Precision: .34   \n",
    "F1: .48\n",
    "\n",
    "- Logistic Regression Imbalanced:\n",
    "\n",
    "Precision: .34   \n",
    "F1: .48\n",
    "\n",
    "- Logistic Regression Balanced:\n",
    "\n",
    "Precision: .33   \n",
    "F1: .48\n"
   ]
  },
  {
   "cell_type": "markdown",
   "metadata": {},
   "source": [
    "Compared to a dummy baseline, both the RFC and LR were 10% more precise and had a 25% better F1 score. Balancing class weight did not make a difference.\n",
    "\n",
    "The prediction metrics of the algorithms did not turn out to be substantially predictive. However, the exploratory data analysis provided insight into disparities of stops according to race and location of stops corresponding to areas with high crime.\n",
    "\n",
    "Overall, the most predictive features were when:\n",
    "- officer was called to the location (via 911, text etc.)\n",
    "- location was in a high-crime beat\n",
    "- subject had a blade \n",
    "- officer or subject race was white \n",
    "- subject race was black\n"
   ]
  },
  {
   "cell_type": "markdown",
   "metadata": {},
   "source": [
    "# Ideas for Future Exploration\n",
    "- Exploratory data analysis showed an over-representation of blacks, hispanics and native american frisks and arrests relative to the population. It would be interesting to evaluate - rather than the impact of subject race on stop resolutions - the impact of skin color on stop resolutions. That is, if I were to combine populations of darker skin color to those with lighter, whether that feature would have a more significant impact on the classification model in predicting arrest. Another option would be to evaluate the impact of white versus non-white on the model.\n",
    "- A cluster analysis could investigate whether there are groups of officers that stop certain subjects. Likewise,  one could isolate whether there are outlier officers whose historical arrests are out of the norm for a specific area.\n",
    "- A time series approach could identify stops or frisks of a class of subjects during certain times of day."
   ]
  }
 ],
 "metadata": {
  "kernelspec": {
   "display_name": "Python 3",
   "language": "python",
   "name": "python3"
  },
  "language_info": {
   "codemirror_mode": {
    "name": "ipython",
    "version": 3
   },
   "file_extension": ".py",
   "mimetype": "text/x-python",
   "name": "python",
   "nbconvert_exporter": "python",
   "pygments_lexer": "ipython3",
   "version": "3.6.9"
  },
  "toc": {
   "base_numbering": 1,
   "nav_menu": {},
   "number_sections": true,
   "sideBar": true,
   "skip_h1_title": false,
   "title_cell": "Table of Contents",
   "title_sidebar": "Contents",
   "toc_cell": false,
   "toc_position": {
    "height": "calc(100% - 180px)",
    "left": "10px",
    "top": "150px",
    "width": "365px"
   },
   "toc_section_display": true,
   "toc_window_display": true
  }
 },
 "nbformat": 4,
 "nbformat_minor": 2
}
